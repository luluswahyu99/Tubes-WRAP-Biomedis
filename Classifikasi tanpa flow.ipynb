{
 "cells": [
  {
   "cell_type": "code",
   "execution_count": 1,
   "metadata": {},
   "outputs": [],
   "source": [
    "import smote_variants as sv\n",
    "import pandas  as pd\n",
    "import matplotlib.pyplot as plt\n",
    "import numpy as np\n",
    "import imbalanced_databases as imbd\n",
    "from sklearn import metrics\n",
    "from sklearn.datasets import load_wine\n",
    "from sklearn.metrics import roc_curve, auc, roc_auc_score\n",
    "from sklearn.metrics import confusion_matrix\n",
    "from sklearn import metrics\n",
    "from sklearn.metrics import plot_roc_curve\n",
    "from imblearn.over_sampling import SMOTE\n",
    "\n",
    "%matplotlib inline\n",
    "from sklearn.model_selection import train_test_split"
   ]
  },
  {
   "cell_type": "code",
   "execution_count": 2,
   "metadata": {},
   "outputs": [],
   "source": [
    "data_train = pd.read_csv('ml_dataset.csv')"
   ]
  },
  {
   "cell_type": "code",
   "execution_count": 3,
   "metadata": {},
   "outputs": [],
   "source": [
    "data = data_train.copy()"
   ]
  },
  {
   "cell_type": "code",
   "execution_count": 4,
   "metadata": {},
   "outputs": [],
   "source": [
    "data.drop([ 'Unnamed: 0', 'TnBPSrcIP', 'TnBPDstIP', 'TnP_PSrcIP', 'TnP_PDstIP',\n",
    "       'TnP_PerProto', 'TnP_Per_Dport', 'AR_P_Proto_P_SrcIP',\n",
    "       'AR_P_Proto_P_DstIP', 'N_IN_Conn_P_DstIP', 'N_IN_Conn_P_SrcIP',\n",
    "       'AR_P_Proto_P_Sport', 'AR_P_Proto_P_Dport',\n",
    "       'Pkts_P_State_P_Protocol_P_DestIP', 'Pkts_P_State_P_Protocol_P_SrcIP'],axis=1,inplace=True)"
   ]
  },
  {
   "cell_type": "code",
   "execution_count": 5,
   "metadata": {},
   "outputs": [
    {
     "data": {
      "text/html": [
       "<div>\n",
       "<style scoped>\n",
       "    .dataframe tbody tr th:only-of-type {\n",
       "        vertical-align: middle;\n",
       "    }\n",
       "\n",
       "    .dataframe tbody tr th {\n",
       "        vertical-align: top;\n",
       "    }\n",
       "\n",
       "    .dataframe thead th {\n",
       "        text-align: right;\n",
       "    }\n",
       "</style>\n",
       "<table border=\"1\" class=\"dataframe\">\n",
       "  <thead>\n",
       "    <tr style=\"text-align: right;\">\n",
       "      <th></th>\n",
       "      <th>pkts</th>\n",
       "      <th>bytes</th>\n",
       "      <th>dur</th>\n",
       "      <th>avg_dur</th>\n",
       "      <th>stddev_dur</th>\n",
       "      <th>tot_dur</th>\n",
       "      <th>min_dur</th>\n",
       "      <th>max_dur</th>\n",
       "      <th>spkts</th>\n",
       "      <th>dpkts</th>\n",
       "      <th>sbytes</th>\n",
       "      <th>dbytes</th>\n",
       "      <th>rate</th>\n",
       "      <th>srate</th>\n",
       "      <th>drate</th>\n",
       "      <th>attack</th>\n",
       "    </tr>\n",
       "  </thead>\n",
       "  <tbody>\n",
       "    <tr>\n",
       "      <th>0</th>\n",
       "      <td>10</td>\n",
       "      <td>1729</td>\n",
       "      <td>6.406424</td>\n",
       "      <td>0.679473</td>\n",
       "      <td>0.544126</td>\n",
       "      <td>1.358946</td>\n",
       "      <td>0.135347</td>\n",
       "      <td>1.223599</td>\n",
       "      <td>6</td>\n",
       "      <td>4</td>\n",
       "      <td>963</td>\n",
       "      <td>766</td>\n",
       "      <td>1.404840</td>\n",
       "      <td>0.780467</td>\n",
       "      <td>0.468280</td>\n",
       "      <td>1</td>\n",
       "    </tr>\n",
       "    <tr>\n",
       "      <th>1</th>\n",
       "      <td>10</td>\n",
       "      <td>1604</td>\n",
       "      <td>6.405851</td>\n",
       "      <td>0.679572</td>\n",
       "      <td>0.544197</td>\n",
       "      <td>1.359144</td>\n",
       "      <td>0.135375</td>\n",
       "      <td>1.223769</td>\n",
       "      <td>6</td>\n",
       "      <td>4</td>\n",
       "      <td>838</td>\n",
       "      <td>766</td>\n",
       "      <td>1.404966</td>\n",
       "      <td>0.780536</td>\n",
       "      <td>0.468322</td>\n",
       "      <td>1</td>\n",
       "    </tr>\n",
       "    <tr>\n",
       "      <th>2</th>\n",
       "      <td>8</td>\n",
       "      <td>1708</td>\n",
       "      <td>6.401038</td>\n",
       "      <td>1.110847</td>\n",
       "      <td>1.110847</td>\n",
       "      <td>2.221694</td>\n",
       "      <td>0.000000</td>\n",
       "      <td>2.221694</td>\n",
       "      <td>5</td>\n",
       "      <td>3</td>\n",
       "      <td>1008</td>\n",
       "      <td>700</td>\n",
       "      <td>1.093573</td>\n",
       "      <td>0.624899</td>\n",
       "      <td>0.900214</td>\n",
       "      <td>1</td>\n",
       "    </tr>\n",
       "    <tr>\n",
       "      <th>3</th>\n",
       "      <td>8</td>\n",
       "      <td>1462</td>\n",
       "      <td>6.400703</td>\n",
       "      <td>1.113328</td>\n",
       "      <td>1.113328</td>\n",
       "      <td>2.226655</td>\n",
       "      <td>0.000000</td>\n",
       "      <td>2.226655</td>\n",
       "      <td>5</td>\n",
       "      <td>3</td>\n",
       "      <td>762</td>\n",
       "      <td>700</td>\n",
       "      <td>1.093630</td>\n",
       "      <td>0.624931</td>\n",
       "      <td>0.898208</td>\n",
       "      <td>1</td>\n",
       "    </tr>\n",
       "    <tr>\n",
       "      <th>4</th>\n",
       "      <td>8</td>\n",
       "      <td>1296</td>\n",
       "      <td>6.400472</td>\n",
       "      <td>1.113098</td>\n",
       "      <td>1.113098</td>\n",
       "      <td>2.226195</td>\n",
       "      <td>0.000000</td>\n",
       "      <td>2.226195</td>\n",
       "      <td>5</td>\n",
       "      <td>3</td>\n",
       "      <td>596</td>\n",
       "      <td>700</td>\n",
       "      <td>1.093669</td>\n",
       "      <td>0.624954</td>\n",
       "      <td>0.898394</td>\n",
       "      <td>1</td>\n",
       "    </tr>\n",
       "  </tbody>\n",
       "</table>\n",
       "</div>"
      ],
      "text/plain": [
       "   pkts  bytes       dur   avg_dur  stddev_dur   tot_dur   min_dur   max_dur  \\\n",
       "0    10   1729  6.406424  0.679473    0.544126  1.358946  0.135347  1.223599   \n",
       "1    10   1604  6.405851  0.679572    0.544197  1.359144  0.135375  1.223769   \n",
       "2     8   1708  6.401038  1.110847    1.110847  2.221694  0.000000  2.221694   \n",
       "3     8   1462  6.400703  1.113328    1.113328  2.226655  0.000000  2.226655   \n",
       "4     8   1296  6.400472  1.113098    1.113098  2.226195  0.000000  2.226195   \n",
       "\n",
       "   spkts  dpkts  sbytes  dbytes      rate     srate     drate  attack  \n",
       "0      6      4     963     766  1.404840  0.780467  0.468280       1  \n",
       "1      6      4     838     766  1.404966  0.780536  0.468322       1  \n",
       "2      5      3    1008     700  1.093573  0.624899  0.900214       1  \n",
       "3      5      3     762     700  1.093630  0.624931  0.898208       1  \n",
       "4      5      3     596     700  1.093669  0.624954  0.898394       1  "
      ]
     },
     "execution_count": 5,
     "metadata": {},
     "output_type": "execute_result"
    }
   ],
   "source": [
    "data.head()"
   ]
  },
  {
   "cell_type": "code",
   "execution_count": 6,
   "metadata": {},
   "outputs": [
    {
     "data": {
      "text/plain": [
       "1    1926608\n",
       "0        477\n",
       "Name: attack, dtype: int64"
      ]
     },
     "execution_count": 6,
     "metadata": {},
     "output_type": "execute_result"
    },
    {
     "data": {
      "image/png": "[encoded data removed]",
      "text/plain": [
       "<Figure size 432x288 with 1 Axes>"
      ]
     },
     "metadata": {
      "needs_background": "light"
     },
     "output_type": "display_data"
    }
   ],
   "source": [
    "pd.value_counts(data['attack']).plot.bar()\n",
    "plt.title('Attack histogram')\n",
    "plt.xlabel('attack')\n",
    "plt.ylabel('value')\n",
    "data['attack'].value_counts()"
   ]
  },
  {
   "cell_type": "code",
   "execution_count": 7,
   "metadata": {},
   "outputs": [],
   "source": [
    "def plot_roc_curve(fpr, tpr):\n",
    "    plt.plot(fpr, tpr, color='blue', label = 'ROC')\n",
    "    plt.plot([0, 1], [0,1], color='red', linestyle='--')\n",
    "    plt.xlabel('False Positive')\n",
    "    plt.ylabel('True Positive')\n",
    "    plt.title('Reciver Operating Characteristic (ROC) Curve')\n",
    "    plt.legend()\n",
    "    plt.show()\n",
    "\n",
    "def classif_results():\n",
    "  conf_mat = confusion_matrix(y_true=y_test , y_pred=y_pred)\n",
    "  print('Confusion matrix:\\n', conf_mat)\n",
    "    \n",
    "  labels= ['Class 0', 'Class 1']\n",
    "  fig = plt.figure()\n",
    "  ax = fig.add_subplot(111)\n",
    "  cax = ax.matshow(conf_mat, cmap=plt.cm.Blues)\n",
    "  fig.colorbar(cax)\n",
    "  ax.set_xticklabels([''] + labels)\n",
    "  ax.set_yticklabels([''] + labels)\n",
    "  plt.xlabel('Predicted')\n",
    "  plt.ylabel('Expected')\n",
    "  plt.show()\n",
    "  \n",
    "  print(\"Accuracy\", metrics.accuracy_score(y_test, y_pred))\n",
    "\n",
    "  from sklearn.metrics import classification_report\n",
    "  print(classification_report(y_test, y_pred))\n",
    "\n",
    "  auc = roc_auc_score(y_test, y_pred)\n",
    "  print(\"AUC Score: \")\n",
    "  print(auc)\n",
    "\n",
    "  fpr, tpr, thresholds = roc_curve(y_test, y_pred)\n",
    "  plot_roc_curve(fpr, tpr)\n",
    "    \n",
    "def test_scale():\n",
    "  from sklearn.model_selection import train_test_split\n",
    "  X_train, X_test, y_train, y_test = train_test_split(X, y, test_size = 0.4, random_state = 0)\n",
    "    \n",
    "  from sklearn.preprocessing import StandardScaler\n",
    "  sc_X = StandardScaler()\n",
    "  X_train = sc_X.fit_transform(X_train)\n",
    "  X_test = sc_X.transform(X_test)"
   ]
  },
  {
   "cell_type": "code",
   "execution_count": 8,
   "metadata": {},
   "outputs": [],
   "source": [
    "X = data.iloc[:, data.columns != 'attack']\n",
    "Y = data.iloc[:, data.columns == 'attack']\n",
    "X, y = SMOTE().fit_resample(X, Y)"
   ]
  },
  {
   "cell_type": "code",
   "execution_count": 9,
   "metadata": {},
   "outputs": [],
   "source": [
    "from sklearn.model_selection import train_test_split\n",
    "X_train, X_test, y_train, y_test = train_test_split(X, y, test_size = 0.4, random_state = 0)\n",
    "\n",
    "from sklearn.preprocessing import StandardScaler\n",
    "sc_X = StandardScaler()\n",
    "X_train = sc_X.fit_transform(X_train)\n",
    "X_test = sc_X.transform(X_test)"
   ]
  },
  {
   "cell_type": "code",
   "execution_count": 10,
   "metadata": {},
   "outputs": [
    {
     "name": "stderr",
     "output_type": "stream",
     "text": [
      "C:\\ProgramData\\Anaconda3\\lib\\site-packages\\sklearn\\utils\\validation.py:63: DataConversionWarning: A column-vector y was passed when a 1d array was expected. Please change the shape of y to (n_samples, ), for example using ravel().\n",
      "  return f(*args, **kwargs)\n",
      "C:\\ProgramData\\Anaconda3\\lib\\site-packages\\sklearn\\linear_model\\_logistic.py:765: ConvergenceWarning: lbfgs failed to converge (status=1):\n",
      "STOP: TOTAL NO. of ITERATIONS REACHED LIMIT.\n",
      "\n",
      "Increase the number of iterations (max_iter) or scale the data as shown in:\n",
      "    https://scikit-learn.org/stable/modules/preprocessing.html\n",
      "Please also refer to the documentation for alternative solver options:\n",
      "    https://scikit-learn.org/stable/modules/linear_model.html#logistic-regression\n",
      "  extra_warning_msg=_LOGISTIC_SOLVER_CONVERGENCE_MSG)\n"
     ]
    }
   ],
   "source": [
    "#logistic regression\n",
    "test_scale()\n",
    "\n",
    "from sklearn.linear_model import LogisticRegression \n",
    "classifier = LogisticRegression()\n",
    "classifier.fit(X_train,y_train)\n",
    "\n",
    "y_pred = classifier.predict(X_test)"
   ]
  },
  {
   "cell_type": "code",
   "execution_count": 11,
   "metadata": {},
   "outputs": [
    {
     "name": "stdout",
     "output_type": "stream",
     "text": [
      "Confusion matrix:\n",
      " [[766801   4583]\n",
      " [146921 622982]]\n"
     ]
    },
    {
     "data": {
      "image/png": "[encoded data removed]",
      "text/plain": [
       "<Figure size 432x288 with 2 Axes>"
      ]
     },
     "metadata": {
      "needs_background": "light"
     },
     "output_type": "display_data"
    },
    {
     "name": "stdout",
     "output_type": "stream",
     "text": [
      "Accuracy 0.901702927488521\n",
      "              precision    recall  f1-score   support\n",
      "\n",
      "           0       0.84      0.99      0.91    771384\n",
      "           1       0.99      0.81      0.89    769903\n",
      "\n",
      "    accuracy                           0.90   1541287\n",
      "   macro avg       0.92      0.90      0.90   1541287\n",
      "weighted avg       0.92      0.90      0.90   1541287\n",
      "\n",
      "AUC Score: \n",
      "0.9016140988018517\n"
     ]
    },
    {
     "data": {
      "image/png": "[encoded data removed]",
      "text/plain": [
       "<Figure size 432x288 with 1 Axes>"
      ]
     },
     "metadata": {
      "needs_background": "light"
     },
     "output_type": "display_data"
    }
   ],
   "source": [
    "classif_results()"
   ]
  },
  {
   "cell_type": "code",
   "execution_count": null,
   "metadata": {},
   "outputs": [],
   "source": [
    "#SVM\n",
    "test_scale()\n",
    "\n",
    "from sklearn.svm import SVC\n",
    "classifier = SVC()\n",
    "classifier.fit(X_train, y_train)\n",
    "\n",
    "y_pred = classifier.predict(X_test)\n",
    "\n",
    "from sklearn.metrics import confusion_matrix\n",
    "cm = confusion_matrix(y_test,y_pred)"
   ]
  },
  {
   "cell_type": "code",
   "execution_count": null,
   "metadata": {},
   "outputs": [],
   "source": [
    "classif_results()"
   ]
  },
  {
   "cell_type": "code",
   "execution_count": null,
   "metadata": {},
   "outputs": [],
   "source": [
    "#neural network\n",
    "import keras\n",
    "from keras.models import Sequential\n",
    "from keras.layers import Dense\n",
    "\n",
    "\n",
    "classifier = Sequential()\n",
    "classifier.add(Dense(units = 6, kernel_initializer = 'uniform', activation = 'relu', input_dim = 29))\n",
    "classifier.add(Dense(units = 6, kernel_initializer = 'uniform', activation = 'relu'))\n",
    "classifier.add(Dense(units = 1, kernel_initializer = 'uniform', activation = 'sigmoid'))\n",
    "classifier.compile(optimizer = 'adam', loss = 'binary_crossentropy', metrics = ['accuracy'])\n",
    "\n",
    "classifier.fit(X_train, y_train, batch_size = 10, epochs = 3)\n",
    "\n",
    "y_pred = classifier.predict(X_test)\n",
    "y_pred = (y_pred > 0.5)\n",
    "\n",
    "from sklearn.metrics import confusion_matrix\n",
    "cm = confusion_matrix(y_test, y_pred)"
   ]
  },
  {
   "cell_type": "code",
   "execution_count": null,
   "metadata": {},
   "outputs": [],
   "source": [
    "classif_results()"
   ]
  }
 ],
 "metadata": {
  "kernelspec": {
   "display_name": "Python 3",
   "language": "python",
   "name": "python3"
  },
  "language_info": {
   "codemirror_mode": {
    "name": "ipython",
    "version": 3
   },
   "file_extension": ".py",
   "mimetype": "text/x-python",
   "name": "python",
   "nbconvert_exporter": "python",
   "pygments_lexer": "ipython3",
   "version": "3.7.6"
  }
 },
 "nbformat": 4,
 "nbformat_minor": 4
}
